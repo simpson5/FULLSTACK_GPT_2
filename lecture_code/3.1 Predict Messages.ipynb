{
 "cells": [
  {
   "cell_type": "code",
   "execution_count": null,
   "metadata": {},
   "outputs": [],
   "source": "# Temperature 설정의 중요성\n# 0.1 = 매우 일관된 답변, 1.0 = 매우 창의적인 답변\n# 대부분의 비즈니스 용도에서는 0.1~0.3이 적절\n\nfrom langchain.chat_models import ChatOpenAI\n\n# temperature=0.1: 일관성 있는 답변을 위한 낮은 창의성 설정\nchat = ChatOpenAI(temperature=0.1)"
  },
  {
   "cell_type": "code",
   "execution_count": null,
   "metadata": {},
   "outputs": [],
   "source": "# LangChain의 3가지 핵심 메시지 타입\n# SystemMessage: AI의 역할과 행동 규칙 설정 (가장 중요!)\n# AIMessage: AI의 이전 응답 (대화 컨텍스트 유지용)\n# HumanMessage: 사용자의 입력\n\nfrom langchain.schema import HumanMessage, AIMessage, SystemMessage\n\n# 메시지 리스트 구성: 시스템 → AI → 인간 순서\nmessages = [\n    # SystemMessage: AI에게 \"당신은 지리 전문가이고, {language}로만 답변하세요\"라는 역할 부여\n    SystemMessage(\n        content=\"You are a geography expert. And you only reply in {language}.\",\n    ),\n    # AIMessage: AI가 이전에 했던 말 (대화 맥락 제공)\n    AIMessage(content=\"Ciao, mi chiamo {name}!\"),\n    # HumanMessage: 사용자의 실제 질문\n    HumanMessage(\n        content=\"What is the distance between {country_a} and {country_b}. Also, what is your name?\",\n    ),\n]\n\n# predict_messages(): 메시지 리스트를 받아서 AI 응답 생성\n# predict()와 달리 복잡한 대화 컨텍스트를 처리할 수 있음\nchat.predict_messages(messages)"
  }
 ],
 "metadata": {
  "kernelspec": {
   "display_name": "env",
   "language": "python",
   "name": "python3"
  },
  "language_info": {
   "codemirror_mode": {
    "name": "ipython",
    "version": 3
   },
   "file_extension": ".py",
   "mimetype": "text/x-python",
   "name": "python",
   "nbconvert_exporter": "python",
   "pygments_lexer": "ipython3",
   "version": "3.11.6"
  }
 },
 "nbformat": 4,
 "nbformat_minor": 2
}