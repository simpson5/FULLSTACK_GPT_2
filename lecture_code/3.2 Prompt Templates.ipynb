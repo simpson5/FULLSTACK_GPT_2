{
 "cells": [
  {
   "cell_type": "code",
   "execution_count": null,
   "metadata": {},
   "outputs": [],
   "source": "# 프롬프트 템플릿의 혁신: 변수 검증과 재사용성\n# 왜 템플릿을 사용하는가? 1) 변수 검증 2) 재사용성 3) 유지보수성\n\nfrom langchain.chat_models import ChatOpenAI\nfrom langchain.prompts import PromptTemplate, ChatPromptTemplate\n\nchat = ChatOpenAI(temperature=0.1)\n\n# PromptTemplate: 기본적인 문자열 템플릿\n# {country_a}, {country_b}는 나중에 실제 값으로 교체될 플레이스홀더\ntemplate = PromptTemplate.from_template(\n    \"What is the distance between {country_a} and {country_b}\",\n)\n\n# format(): 템플릿의 변수를 실제 값으로 교체\n# 누락된 변수가 있으면 에러 발생 → 안전한 프롬프트 생성\nprompt = template.format(country_a=\"Mexico\", country_b=\"Thailand\")\n\n# 포맷된 프롬프트를 일반 predict()로 전달\nchat.predict(prompt)"
  },
  {
   "cell_type": "code",
   "execution_count": null,
   "metadata": {},
   "outputs": [],
   "source": "# ChatPromptTemplate: Chat 모델을 위한 고급 템플릿\n# 여러 메시지 타입을 쉽게 관리하고 변수를 안전하게 처리\n\n# from_messages(): 메시지 리스트를 템플릿화\n# 각 튜플: (메시지_타입, 메시지_내용)\ntemplate = ChatPromptTemplate.from_messages(\n    [\n        # \"system\": SystemMessage 생성, AI의 역할과 언어 설정\n        (\"system\", \"You are a geography expert. And you only reply in {language}.\"),\n        # \"ai\": AIMessage 생성, 대화 컨텍스트 제공\n        (\"ai\", \"Ciao, mi chiamo {name}!\"),\n        # \"human\": HumanMessage 생성, 실제 사용자 질문\n        (\n            \"human\",\n            \"What is the distance between {country_a} and {country_b}. Also, what is your name?\",\n        ),\n    ]\n)\n\n# format_messages(): 모든 변수를 한 번에 교체하여 메시지 리스트 생성\n# 하나라도 누락되면 에러 발생 → 완벽한 변수 검증\nprompt = template.format_messages(\n    language=\"Korean\",     # {language} 교체\n    name=\"Socrates\",      # {name} 교체  \n    country_a=\"Mexico\",   # {country_a} 교체\n    country_b=\"Thailand\", # {country_b} 교체\n)\n\n# Chat 모델에는 메시지 리스트를 전달\nchat.predict_messages(prompt)"
  }
 ],
 "metadata": {
  "kernelspec": {
   "display_name": "env",
   "language": "python",
   "name": "python3"
  },
  "language_info": {
   "codemirror_mode": {
    "name": "ipython",
    "version": 3
   },
   "file_extension": ".py",
   "mimetype": "text/x-python",
   "name": "python",
   "nbconvert_exporter": "python",
   "pygments_lexer": "ipython3",
   "version": "3.11.6"
  }
 },
 "nbformat": 4,
 "nbformat_minor": 2
}