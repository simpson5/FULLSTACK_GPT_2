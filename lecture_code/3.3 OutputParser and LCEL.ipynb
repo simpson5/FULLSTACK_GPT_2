{
 "cells": [
  {
   "cell_type": "code",
   "execution_count": null,
   "metadata": {},
   "outputs": [],
   "source": "# Output Parser와 LCEL의 시작\n# LLM의 출력은 항상 텍스트이지만, 우리는 구조화된 데이터가 필요합니다\n\nfrom langchain.chat_models import ChatOpenAI\nfrom langchain.prompts import ChatPromptTemplate\n\n# 일관된 결과를 위한 낮은 temperature 설정\nchat = ChatOpenAI(temperature=0.1)"
  },
  {
   "cell_type": "code",
   "execution_count": null,
   "metadata": {},
   "outputs": [],
   "source": "# 커스텀 Output Parser 구현\n# BaseOutputParser를 상속받아 원하는 형태로 텍스트를 변환\n\nfrom langchain.schema import BaseOutputParser\n\nclass CommaOutputParser(BaseOutputParser):\n    \"\"\"쉼표로 구분된 텍스트를 리스트로 변환하는 파서\"\"\"\n    \n    def parse(self, text):\n        \"\"\"\n        LLM의 텍스트 출력을 파싱하는 핵심 메서드\n        예: \"apple, banana, orange\" → [\"apple\", \"banana\", \"orange\"]\n        \"\"\"\n        # strip(): 양쪽 공백 제거, split(\",\"): 쉼표로 분할\n        items = text.strip().split(\",\")\n        # 각 항목의 앞뒤 공백도 제거하여 깔끔한 리스트 반환\n        return list(map(str.strip, items))"
  },
  {
   "cell_type": "code",
   "execution_count": null,
   "metadata": {},
   "outputs": [],
   "source": "# Output Parser용 프롬프트 템플릿\n# LLM이 우리가 원하는 형태로 출력하도록 정확한 지시사항 제공\n\ntemplate = ChatPromptTemplate.from_messages(\n    [\n        (\n            \"system\",\n            # 매우 구체적인 지시사항:\n            # 1. 리스트 생성 머신 역할\n            # 2. 쉼표로 구분된 리스트만 출력\n            # 3. 최대 개수 제한\n            # 4. 소문자로만 출력\n            # 5. 다른 내용은 절대 포함하지 말 것\n            \"You are a list generating machine. Everything you are asked will be answered with a comma separated list of max {max_items} in lowercase.Do NOT reply with anything else.\",\n        ),\n        # 사용자의 실제 질문\n        (\"human\", \"{question}\"),\n    ]\n)"
  },
  {
   "cell_type": "code",
   "execution_count": null,
   "metadata": {},
   "outputs": [],
   "source": "# 🎉 LCEL의 마법! LangChain Expression Language\n# 파이프 연산자(|)로 체인을 우아하게 구성하는 혁명적인 방법\n\n# 전통적 방법이었다면:\n# 1. template.format_messages() 호출\n# 2. chat.predict_messages() 호출  \n# 3. parser.parse() 호출\n# → 총 3번의 수동 호출 + 중간 변수 관리\n\n# LCEL 방법: 한 줄로 끝!\nchain = template | chat | CommaOutputParser()\n# template → chat → CommaOutputParser 순서로 데이터가 흐름\n# | 연산자는 LangChain이 특별히 구현한 마법의 연산자\n\n# invoke(): 체인 전체를 실행하는 통합 메서드\n# 딕셔너리를 입력하면 최종 파싱된 결과가 출력됨\nresult = chain.invoke({\"max_items\": 5, \"question\": \"What are the pokemons?\"})\nresult  # ['pikachu', 'charmander', 'bulbasaur', 'squirtle', 'jigglypuff']"
  }
 ],
 "metadata": {
  "kernelspec": {
   "display_name": "env",
   "language": "python",
   "name": "python3"
  },
  "language_info": {
   "codemirror_mode": {
    "name": "ipython",
    "version": 3
   },
   "file_extension": ".py",
   "mimetype": "text/x-python",
   "name": "python",
   "nbconvert_exporter": "python",
   "pygments_lexer": "ipython3",
   "version": "3.11.6"
  }
 },
 "nbformat": 4,
 "nbformat_minor": 2
}