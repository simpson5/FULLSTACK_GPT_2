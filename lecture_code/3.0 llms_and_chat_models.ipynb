{
 "cells": [
  {
   "cell_type": "code",
   "execution_count": null,
   "metadata": {},
   "outputs": [],
   "source": "# LangChain의 핵심: ChatOpenAI 기본 사용법\n# LangChain을 사용하는 가장 간단한 방법을 배워봅시다\n\nfrom langchain.chat_models import ChatOpenAI\n\n# ChatOpenAI 인스턴스 생성\n# 기본 temperature는 1.0 (매우 창의적), 0에 가까울수록 일관된 답변\nchat = ChatOpenAI()\n\n# predict() 메서드: 문자열을 입력받아 AI 응답을 반환\n# 가장 간단한 LangChain 사용법 - 단일 질문에 대한 답변\nb = chat.predict(\"How many planets are there?\")\n\nb               "
  }
 ],
 "metadata": {
  "kernelspec": {
   "display_name": "env",
   "language": "python",
   "name": "python3"
  },
  "language_info": {
   "codemirror_mode": {
    "name": "ipython",
    "version": 3
   },
   "file_extension": ".py",
   "mimetype": "text/x-python",
   "name": "python",
   "nbconvert_exporter": "python",
   "pygments_lexer": "ipython3",
   "version": "3.11.6"
  }
 },
 "nbformat": 4,
 "nbformat_minor": 2
}