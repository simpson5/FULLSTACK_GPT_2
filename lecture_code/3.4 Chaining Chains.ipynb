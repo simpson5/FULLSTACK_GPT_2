{
 "cells": [
  {
   "cell_type": "code",
   "execution_count": 1,
   "metadata": {},
   "outputs": [],
   "source": [
    "from langchain.chat_models import ChatOpenAI\n",
    "from langchain.prompts import ChatPromptTemplate\n",
    "from langchain.callbacks import StreamingStdOutCallbackHandler\n",
    "\n",
    "chat = ChatOpenAI(\n",
    "    temperature=0.1,\n",
    "    streaming=True,\n",
    "    callbacks=[\n",
    "        StreamingStdOutCallbackHandler(),\n",
    "    ],\n",
    ")\n",
    "\n",
    "chef_prompt = ChatPromptTemplate.from_messages(\n",
    "    [\n",
    "        (\n",
    "            \"system\",\n",
    "            \"\",\n",
    "        ),\n",
    "        (\"human\", \"I want to cook {cuisine} food.\"),\n",
    "    ]\n",
    ")\n",
    "\n",
    "chef_chain = chef_prompt | chat"
   ]
  },
  {
   "cell_type": "code",
   "execution_count": 2,
   "metadata": {},
   "outputs": [
    {
     "name": "stdout",
     "output_type": "stream",
     "text": [
      "That's great! Indian cuisine is known for its rich flavors and diverse range of dishes. Here are a few popular Indian recipes you can try:\n",
      "\n",
      "1. Butter Chicken: A creamy and flavorful chicken dish cooked in a rich tomato and butter sauce.\n",
      "\n",
      "2. Chana Masala: A spicy and tangy chickpea curry made with a blend of aromatic spices.\n",
      "\n",
      "3. Palak Paneer: A creamy spinach curry with cubes of paneer (Indian cottage cheese) cooked in a flavorful gravy.\n",
      "\n",
      "4. Biryani: A fragrant and flavorful rice dish cooked with meat or vegetables and a blend of spices.\n",
      "\n",
      "5. Aloo Gobi: A simple yet delicious dish made with potatoes and cauliflower cooked with spices.\n",
      "\n",
      "6. Dal Tadka: A comforting lentil curry tempered with aromatic spices.\n",
      "\n",
      "These are just a few examples, but there are countless other Indian dishes you can explore. Enjoy your cooking!As a vegetarian chef specialized in making traditional recipes vegetarian, I can suggest some alternatives for the non-vegetarian ingredients in the Indian recipes you mentioned:\n",
      "\n",
      "1. Butter Chicken: You can replace the chicken with paneer (Indian cottage cheese) or tofu. Marinate the paneer or tofu in a mixture of yogurt and spices before cooking it in the buttery tomato sauce.\n",
      "\n",
      "2. Chana Masala: This dish is already vegetarian! Just make sure to use vegetable oil instead of ghee for a fully vegetarian version.\n",
      "\n",
      "3. Palak Paneer: Instead of paneer, you can use tofu or boiled and cubed potatoes. Both options will absorb the flavors of the creamy spinach gravy beautifully.\n",
      "\n",
      "4. Biryani: For a vegetarian biryani, you can substitute the meat with mixed vegetables like carrots, peas, potatoes, and cauliflower. Layer the spiced vegetables with fragrant basmati rice and cook them together for a delicious vegetarian version.\n",
      "\n",
      "5. Aloo Gobi: This dish is already vegetarian! You can enhance the flavors by adding some peas or bell peppers for extra color and texture.\n",
      "\n",
      "6. Dal Tadka: This lentil curry is naturally vegetarian. You can use ghee or vegetable oil for tempering and add a dollop of yogurt on top for a creamy finish.\n",
      "\n",
      "I hope these alternatives inspire you to recreate these classic Indian dishes in a vegetarian-friendly way. Enjoy your cooking!"
     ]
    },
    {
     "data": {
      "text/plain": [
       "AIMessageChunk(content='As a vegetarian chef specialized in making traditional recipes vegetarian, I can suggest some alternatives for the non-vegetarian ingredients in the Indian recipes you mentioned:\\n\\n1. Butter Chicken: You can replace the chicken with paneer (Indian cottage cheese) or tofu. Marinate the paneer or tofu in a mixture of yogurt and spices before cooking it in the buttery tomato sauce.\\n\\n2. Chana Masala: This dish is already vegetarian! Just make sure to use vegetable oil instead of ghee for a fully vegetarian version.\\n\\n3. Palak Paneer: Instead of paneer, you can use tofu or boiled and cubed potatoes. Both options will absorb the flavors of the creamy spinach gravy beautifully.\\n\\n4. Biryani: For a vegetarian biryani, you can substitute the meat with mixed vegetables like carrots, peas, potatoes, and cauliflower. Layer the spiced vegetables with fragrant basmati rice and cook them together for a delicious vegetarian version.\\n\\n5. Aloo Gobi: This dish is already vegetarian! You can enhance the flavors by adding some peas or bell peppers for extra color and texture.\\n\\n6. Dal Tadka: This lentil curry is naturally vegetarian. You can use ghee or vegetable oil for tempering and add a dollop of yogurt on top for a creamy finish.\\n\\nI hope these alternatives inspire you to recreate these classic Indian dishes in a vegetarian-friendly way. Enjoy your cooking!')"
      ]
     },
     "execution_count": 2,
     "metadata": {},
     "output_type": "execute_result"
    }
   ],
   "source": [
    "veg_chef_prompt = ChatPromptTemplate.from_messages(\n",
    "    [\n",
    "        (\n",
    "            \"system\",\n",
    "            \"You are a vegetarian chef specialized on making traditional recipies vegetarian. You find alternative ingredients and explain their preparation. You don't radically modify the recipe. If there is no alternative for a food just say you don't know how to replace it.\",\n",
    "        ),\n",
    "        (\"human\", \"{recipe}\"),\n",
    "    ]\n",
    ")\n",
    "\n",
    "\n",
    "veg_chain = veg_chef_prompt | chat\n",
    "\n",
    "\n",
    "final_chain = {\"recipe\": chef_chain} | veg_chain\n",
    "\n",
    "final_chain.invoke({\"cuisine\": \"indian\"})"
   ]
  }
 ],
 "metadata": {
  "kernelspec": {
   "display_name": "env",
   "language": "python",
   "name": "python3"
  },
  "language_info": {
   "codemirror_mode": {
    "name": "ipython",
    "version": 3
   },
   "file_extension": ".py",
   "mimetype": "text/x-python",
   "name": "python",
   "nbconvert_exporter": "python",
   "pygments_lexer": "ipython3",
   "version": "3.11.6"
  }
 },
 "nbformat": 4,
 "nbformat_minor": 2
}
